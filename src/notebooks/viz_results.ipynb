{
 "cells": [
  {
   "cell_type": "code",
   "execution_count": null,
   "metadata": {},
   "outputs": [],
   "source": [
    "from __future__ import absolute_import, division, print_function\n",
    "\n",
    "import numpy as np\n",
    "import pandas as pd\n",
    "import os\n",
    "import logging\n",
    "import glob\n",
    "import sys\n",
    "\n",
    "from skimage import io as imio, transform as imtransform\n",
    "from matplotlib import pyplot as plt\n",
    "import seaborn as sns\n",
    "\n",
    "%matplotlib inline"
   ]
  },
  {
   "cell_type": "code",
   "execution_count": null,
   "metadata": {},
   "outputs": [],
   "source": [
    "from torchvision import transforms\n",
    "from PIL import Image"
   ]
  },
  {
   "cell_type": "code",
   "execution_count": null,
   "metadata": {},
   "outputs": [],
   "source": [
    "xform = transforms.Compose([\n",
    "    transforms.Resize(224),\n",
    "    transforms.CenterCrop(224),\n",
    "])"
   ]
  },
  {
   "cell_type": "code",
   "execution_count": null,
   "metadata": {},
   "outputs": [],
   "source": [
    "df_pred = pd.read_csv('/home/quoc_vuong/Downloads/resnet101_120_public.csv')\n",
    "import json\n",
    "\n",
    "with open('../../data/train_val2018.json') as f:\n",
    "    data_str = json.load(f)\n",
    "    df_trainval = pd.read_json(data_str, orient='records')"
   ]
  },
  {
   "cell_type": "code",
   "execution_count": null,
   "metadata": {},
   "outputs": [],
   "source": [
    "dir_pub = '../../data/Public/'\n",
    "dir_trainval = '../../data/TrainVal/'"
   ]
  },
  {
   "cell_type": "code",
   "execution_count": null,
   "metadata": {
    "scrolled": false
   },
   "outputs": [],
   "source": [
    "size = 8\n",
    "pick = 1\n",
    "per_class = 6\n",
    "subdf = df_pred.sample(size)\n",
    "\n",
    "fig, axes = plt.subplots((pick + 1) * size, per_class,\n",
    "        figsize=(2.5 * per_class, 2.5 * size * (pick + 1)), squeeze=False)\n",
    "fig.subplots_adjust(hspace=.01, wspace=.01)\n",
    "\n",
    "for _ax in axes:\n",
    "    for ax in _ax:\n",
    "        ax.axis('off')\n",
    "\n",
    "for i in range(subdf.shape[0]):\n",
    "    r = subdf.iloc[i]\n",
    "    im = Image.open(os.path.join(dir_pub, '{}.jpg'.format(r['id'])))\n",
    "    ax = axes[(pick + 1) * i, 0]\n",
    "    ax.imshow(np.array(xform(im)))\n",
    "    ax.text(1.05, .5, '{} -- {}'.format(r['id'], r['predicted']),\n",
    "        horizontalalignment='left',\n",
    "        transform=ax.transAxes)\n",
    "    \n",
    "    klasses = [int(c) for c in r['predicted'].split(' ')]\n",
    "    for j, c in enumerate(klasses[:pick]):\n",
    "        subdf_trainval = df_trainval[df_trainval['category'] == c].sample(per_class)\n",
    "        for k in range(subdf_trainval.shape[0]):\n",
    "            r2 = subdf_trainval.iloc[k]\n",
    "            im2 = Image.open(os.path.join(dir_trainval, str(c), '{}.jpg'.format(r2['id'])))\n",
    "            ax = axes[(pick + 1) * i + j + 1, k]\n",
    "            ax.imshow(np.array(xform(im2)))\n",
    "fig.show()"
   ]
  },
  {
   "cell_type": "code",
   "execution_count": null,
   "metadata": {},
   "outputs": [],
   "source": []
  }
 ],
 "metadata": {
  "kernelspec": {
   "display_name": "Python 2",
   "language": "python",
   "name": "python2"
  },
  "language_info": {
   "codemirror_mode": {
    "name": "ipython",
    "version": 2
   },
   "file_extension": ".py",
   "mimetype": "text/x-python",
   "name": "python",
   "nbconvert_exporter": "python",
   "pygments_lexer": "ipython2",
   "version": "2.7.14"
  }
 },
 "nbformat": 4,
 "nbformat_minor": 2
}
