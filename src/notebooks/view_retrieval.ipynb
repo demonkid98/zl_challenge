{
 "cells": [
  {
   "cell_type": "code",
   "execution_count": null,
   "metadata": {},
   "outputs": [],
   "source": [
    "from __future__ import absolute_import, division, print_function\n",
    "\n",
    "import numpy as np\n",
    "import pandas as pd\n",
    "import os\n",
    "import logging\n",
    "import glob\n",
    "import sys\n",
    "\n",
    "from skimage import io as imio, transform as imtransform\n",
    "from matplotlib import pyplot as plt\n",
    "import seaborn as sns\n",
    "\n",
    "%matplotlib inline"
   ]
  },
  {
   "cell_type": "code",
   "execution_count": null,
   "metadata": {},
   "outputs": [],
   "source": [
    "from torchvision import transforms\n",
    "from PIL import Image"
   ]
  },
  {
   "cell_type": "code",
   "execution_count": null,
   "metadata": {},
   "outputs": [],
   "source": [
    "dir_pub = '../../data/Public/'\n",
    "dir_trainval = '../../data/TrainVal/'"
   ]
  },
  {
   "cell_type": "code",
   "execution_count": null,
   "metadata": {},
   "outputs": [],
   "source": [
    "npz_file = '/mnt/bergamote_home/zl_challenge/tmp/resnext101_64x4d_072_feats-gap_retrieve_flat.npz'\n",
    "with np.load(npz_file) as data:\n",
    "    ids = data['id']\n",
    "    results = data['results']\n",
    "    distances = data['distances']"
   ]
  },
  {
   "cell_type": "code",
   "execution_count": null,
   "metadata": {},
   "outputs": [],
   "source": [
    "xform = transforms.Compose([\n",
    "    transforms.Resize(224),\n",
    "    transforms.CenterCrop(224),\n",
    "])"
   ]
  },
  {
   "cell_type": "code",
   "execution_count": null,
   "metadata": {
    "scrolled": false
   },
   "outputs": [],
   "source": [
    "size = 32\n",
    "st = 13\n",
    "pick = 1\n",
    "per_class = 6\n",
    "sub_ids = ids[st * size:(st + 1) * size]\n",
    "sub_results = results[st * size:(st + 1) * size]\n",
    "\n",
    "\n",
    "fig, axes = plt.subplots((pick + 1) * size, per_class,\n",
    "        figsize=(2.5 * per_class, 3 * size * (pick + 1)), squeeze=False)\n",
    "fig.subplots_adjust(hspace=.01, wspace=.01)\n",
    "\n",
    "\n",
    "for _ax in axes:\n",
    "    for ax in _ax:\n",
    "        ax.axis('off')\n",
    "\n",
    "for i in range(sub_ids.shape[0]):\n",
    "    uid = sub_ids[i]\n",
    "    im = Image.open(os.path.join(dir_pub, '{}.jpg'.format(uid))).convert('RGB')\n",
    "    ax = axes[(pick + 1) * i, 0]\n",
    "    ax.imshow(np.array(xform(im)))\n",
    "    ax.set_title(uid)\n",
    "\n",
    "    for j in range(min(sub_results[i].shape[0], per_class)):\n",
    "        uid2 = sub_results[i, j]\n",
    "        impath = glob.glob(os.path.join(dir_trainval, '*/{}.jpg'.format(uid2)))[0]\n",
    "\n",
    "        im2 = Image.open(impath).convert('RGB')\n",
    "        ax = axes[(pick + 1) * i + 1, j]\n",
    "        ax.imshow(np.array(xform(im2)))\n",
    "        ax.set_title(impath.replace(dir_trainval, ''))\n",
    "fig.show()"
   ]
  },
  {
   "cell_type": "code",
   "execution_count": null,
   "metadata": {},
   "outputs": [],
   "source": []
  }
 ],
 "metadata": {
  "kernelspec": {
   "display_name": "Python 2",
   "language": "python",
   "name": "python2"
  },
  "language_info": {
   "codemirror_mode": {
    "name": "ipython",
    "version": 2
   },
   "file_extension": ".py",
   "mimetype": "text/x-python",
   "name": "python",
   "nbconvert_exporter": "python",
   "pygments_lexer": "ipython2",
   "version": "2.7.14"
  }
 },
 "nbformat": 4,
 "nbformat_minor": 2
}
